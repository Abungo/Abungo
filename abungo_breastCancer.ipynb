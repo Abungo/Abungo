{
  "cells": [
    {
      "cell_type": "markdown",
      "metadata": {
        "id": "view-in-github",
        "colab_type": "text"
      },
      "source": [
        "<a href=\"https://colab.research.google.com/github/Abungo/Abungo/blob/main/abungo_breastCancer.ipynb\" target=\"_parent\"><img src=\"https://colab.research.google.com/assets/colab-badge.svg\" alt=\"Open In Colab\"/></a>"
      ]
    },
    {
      "cell_type": "code",
      "execution_count": 29,
      "id": "c5f711e6",
      "metadata": {
        "id": "c5f711e6"
      },
      "outputs": [],
      "source": [
        "import pandas as pd\n",
        "import matplotlib.pyplot as plt\n",
        "from tensorflow.keras.models import Sequential\n",
        "from tensorflow.keras.layers import Dense\n",
        "from sklearn.model_selection import train_test_split\n",
        "from sklearn.preprocessing import LabelEncoder\n",
        "from sklearn.metrics import confusion_matrix\n",
        "from sklearn.metrics import classification_report\n",
        "from sklearn.preprocessing import StandardScaler\n",
        "from sklearn.datasets import load_breast_cancer"
      ]
    },
    {
      "cell_type": "code",
      "source": [
        "url = \"https://raw.githubusercontent.com/Abungo/copypaste/main/breastCancer.csv\"\n",
        "df=pd.read_csv(url)"
      ],
      "metadata": {
        "id": "YMKxQoe2DARm"
      },
      "id": "YMKxQoe2DARm",
      "execution_count": 30,
      "outputs": []
    },
    {
      "cell_type": "code",
      "source": [
        "X = df.iloc[:,2:-1]\n",
        "y = df.iloc[:,1]"
      ],
      "metadata": {
        "id": "mJkpM99MDmqT"
      },
      "id": "mJkpM99MDmqT",
      "execution_count": 31,
      "outputs": []
    },
    {
      "cell_type": "code",
      "execution_count": 32,
      "id": "4e44430e",
      "metadata": {
        "id": "4e44430e"
      },
      "outputs": [],
      "source": [
        "en = LabelEncoder()\n",
        "en.fit(y)\n",
        "y = en.transform(y)"
      ]
    },
    {
      "cell_type": "code",
      "execution_count": 33,
      "id": "1dbfa4a4",
      "metadata": {
        "id": "1dbfa4a4"
      },
      "outputs": [],
      "source": [
        "#scaling the training data\n",
        "scaler = StandardScaler()\n",
        "X = scaler.fit_transform(X)"
      ]
    },
    {
      "cell_type": "code",
      "execution_count": 34,
      "id": "b7ade115",
      "metadata": {
        "id": "b7ade115"
      },
      "outputs": [],
      "source": [
        "X_train,X_test,y_train,y_test = train_test_split(X, y, random_state=3, test_size = 0.25)"
      ]
    },
    {
      "cell_type": "code",
      "execution_count": 35,
      "id": "a23e86f5",
      "metadata": {
        "id": "a23e86f5"
      },
      "outputs": [],
      "source": [
        "model = Sequential()\n",
        "model.add(Dense(16,input_dim = 30, activation = 'relu'))\n",
        "#model.add(Dense(8, activation = 'relu'))\n",
        "model.add(Dense(1,input_dim = 30,activation = 'sigmoid'))\n",
        "model.compile(loss = 'binary_crossentropy', optimizer = 'adam', metrics = ['accuracy'])"
      ]
    },
    {
      "cell_type": "code",
      "execution_count": 36,
      "id": "c6f1c728",
      "metadata": {
        "colab": {
          "base_uri": "https://localhost:8080/"
        },
        "id": "c6f1c728",
        "outputId": "81c48849-5d78-4001-8c18-6be3d962e370"
      },
      "outputs": [
        {
          "output_type": "stream",
          "name": "stdout",
          "text": [
            "Epoch 1/50\n",
            "14/14 - 1s - loss: 0.7782 - accuracy: 0.6080 - val_loss: 0.6156 - val_accuracy: 0.6643 - 829ms/epoch - 59ms/step\n",
            "Epoch 2/50\n",
            "14/14 - 0s - loss: 0.5658 - accuracy: 0.7183 - val_loss: 0.4683 - val_accuracy: 0.7832 - 79ms/epoch - 6ms/step\n",
            "Epoch 3/50\n",
            "14/14 - 0s - loss: 0.4257 - accuracy: 0.8263 - val_loss: 0.3706 - val_accuracy: 0.8741 - 74ms/epoch - 5ms/step\n",
            "Epoch 4/50\n",
            "14/14 - 0s - loss: 0.3402 - accuracy: 0.8850 - val_loss: 0.3067 - val_accuracy: 0.8951 - 74ms/epoch - 5ms/step\n",
            "Epoch 5/50\n",
            "14/14 - 0s - loss: 0.2866 - accuracy: 0.9131 - val_loss: 0.2637 - val_accuracy: 0.9231 - 107ms/epoch - 8ms/step\n",
            "Epoch 6/50\n",
            "14/14 - 0s - loss: 0.2507 - accuracy: 0.9225 - val_loss: 0.2316 - val_accuracy: 0.9301 - 93ms/epoch - 7ms/step\n",
            "Epoch 7/50\n",
            "14/14 - 0s - loss: 0.2237 - accuracy: 0.9390 - val_loss: 0.2070 - val_accuracy: 0.9441 - 100ms/epoch - 7ms/step\n",
            "Epoch 8/50\n",
            "14/14 - 0s - loss: 0.2028 - accuracy: 0.9437 - val_loss: 0.1874 - val_accuracy: 0.9441 - 97ms/epoch - 7ms/step\n",
            "Epoch 9/50\n",
            "14/14 - 0s - loss: 0.1856 - accuracy: 0.9460 - val_loss: 0.1721 - val_accuracy: 0.9441 - 77ms/epoch - 6ms/step\n",
            "Epoch 10/50\n",
            "14/14 - 0s - loss: 0.1713 - accuracy: 0.9484 - val_loss: 0.1594 - val_accuracy: 0.9510 - 80ms/epoch - 6ms/step\n",
            "Epoch 11/50\n",
            "14/14 - 0s - loss: 0.1595 - accuracy: 0.9484 - val_loss: 0.1484 - val_accuracy: 0.9510 - 97ms/epoch - 7ms/step\n",
            "Epoch 12/50\n",
            "14/14 - 0s - loss: 0.1491 - accuracy: 0.9577 - val_loss: 0.1396 - val_accuracy: 0.9510 - 95ms/epoch - 7ms/step\n",
            "Epoch 13/50\n",
            "14/14 - 0s - loss: 0.1401 - accuracy: 0.9648 - val_loss: 0.1319 - val_accuracy: 0.9510 - 93ms/epoch - 7ms/step\n",
            "Epoch 14/50\n",
            "14/14 - 0s - loss: 0.1325 - accuracy: 0.9695 - val_loss: 0.1258 - val_accuracy: 0.9510 - 93ms/epoch - 7ms/step\n",
            "Epoch 15/50\n",
            "14/14 - 0s - loss: 0.1257 - accuracy: 0.9718 - val_loss: 0.1196 - val_accuracy: 0.9510 - 118ms/epoch - 8ms/step\n",
            "Epoch 16/50\n",
            "14/14 - 0s - loss: 0.1196 - accuracy: 0.9718 - val_loss: 0.1143 - val_accuracy: 0.9510 - 93ms/epoch - 7ms/step\n",
            "Epoch 17/50\n",
            "14/14 - 0s - loss: 0.1141 - accuracy: 0.9718 - val_loss: 0.1102 - val_accuracy: 0.9441 - 99ms/epoch - 7ms/step\n",
            "Epoch 18/50\n",
            "14/14 - 0s - loss: 0.1091 - accuracy: 0.9742 - val_loss: 0.1065 - val_accuracy: 0.9510 - 89ms/epoch - 6ms/step\n",
            "Epoch 19/50\n",
            "14/14 - 0s - loss: 0.1048 - accuracy: 0.9742 - val_loss: 0.1031 - val_accuracy: 0.9580 - 96ms/epoch - 7ms/step\n",
            "Epoch 20/50\n",
            "14/14 - 0s - loss: 0.1005 - accuracy: 0.9742 - val_loss: 0.0996 - val_accuracy: 0.9580 - 89ms/epoch - 6ms/step\n",
            "Epoch 21/50\n",
            "14/14 - 0s - loss: 0.0968 - accuracy: 0.9742 - val_loss: 0.0970 - val_accuracy: 0.9580 - 78ms/epoch - 6ms/step\n",
            "Epoch 22/50\n",
            "14/14 - 0s - loss: 0.0934 - accuracy: 0.9812 - val_loss: 0.0947 - val_accuracy: 0.9580 - 93ms/epoch - 7ms/step\n",
            "Epoch 23/50\n",
            "14/14 - 0s - loss: 0.0903 - accuracy: 0.9812 - val_loss: 0.0930 - val_accuracy: 0.9580 - 89ms/epoch - 6ms/step\n",
            "Epoch 24/50\n",
            "14/14 - 0s - loss: 0.0876 - accuracy: 0.9836 - val_loss: 0.0915 - val_accuracy: 0.9650 - 82ms/epoch - 6ms/step\n",
            "Epoch 25/50\n",
            "14/14 - 0s - loss: 0.0849 - accuracy: 0.9859 - val_loss: 0.0897 - val_accuracy: 0.9650 - 89ms/epoch - 6ms/step\n",
            "Epoch 26/50\n",
            "14/14 - 0s - loss: 0.0826 - accuracy: 0.9859 - val_loss: 0.0884 - val_accuracy: 0.9650 - 102ms/epoch - 7ms/step\n",
            "Epoch 27/50\n",
            "14/14 - 0s - loss: 0.0805 - accuracy: 0.9859 - val_loss: 0.0870 - val_accuracy: 0.9650 - 95ms/epoch - 7ms/step\n",
            "Epoch 28/50\n",
            "14/14 - 0s - loss: 0.0783 - accuracy: 0.9883 - val_loss: 0.0860 - val_accuracy: 0.9650 - 91ms/epoch - 6ms/step\n",
            "Epoch 29/50\n",
            "14/14 - 0s - loss: 0.0765 - accuracy: 0.9883 - val_loss: 0.0848 - val_accuracy: 0.9650 - 99ms/epoch - 7ms/step\n",
            "Epoch 30/50\n",
            "14/14 - 0s - loss: 0.0747 - accuracy: 0.9883 - val_loss: 0.0839 - val_accuracy: 0.9650 - 84ms/epoch - 6ms/step\n",
            "Epoch 31/50\n",
            "14/14 - 0s - loss: 0.0731 - accuracy: 0.9883 - val_loss: 0.0831 - val_accuracy: 0.9650 - 94ms/epoch - 7ms/step\n",
            "Epoch 32/50\n",
            "14/14 - 0s - loss: 0.0715 - accuracy: 0.9883 - val_loss: 0.0824 - val_accuracy: 0.9650 - 85ms/epoch - 6ms/step\n",
            "Epoch 33/50\n",
            "14/14 - 0s - loss: 0.0700 - accuracy: 0.9883 - val_loss: 0.0816 - val_accuracy: 0.9650 - 88ms/epoch - 6ms/step\n",
            "Epoch 34/50\n",
            "14/14 - 0s - loss: 0.0686 - accuracy: 0.9883 - val_loss: 0.0808 - val_accuracy: 0.9650 - 93ms/epoch - 7ms/step\n",
            "Epoch 35/50\n",
            "14/14 - 0s - loss: 0.0675 - accuracy: 0.9883 - val_loss: 0.0804 - val_accuracy: 0.9650 - 77ms/epoch - 5ms/step\n",
            "Epoch 36/50\n",
            "14/14 - 0s - loss: 0.0660 - accuracy: 0.9883 - val_loss: 0.0800 - val_accuracy: 0.9650 - 86ms/epoch - 6ms/step\n",
            "Epoch 37/50\n",
            "14/14 - 0s - loss: 0.0648 - accuracy: 0.9883 - val_loss: 0.0789 - val_accuracy: 0.9650 - 105ms/epoch - 8ms/step\n",
            "Epoch 38/50\n",
            "14/14 - 0s - loss: 0.0636 - accuracy: 0.9883 - val_loss: 0.0782 - val_accuracy: 0.9650 - 102ms/epoch - 7ms/step\n",
            "Epoch 39/50\n",
            "14/14 - 0s - loss: 0.0625 - accuracy: 0.9883 - val_loss: 0.0776 - val_accuracy: 0.9650 - 94ms/epoch - 7ms/step\n",
            "Epoch 40/50\n",
            "14/14 - 0s - loss: 0.0614 - accuracy: 0.9906 - val_loss: 0.0774 - val_accuracy: 0.9720 - 88ms/epoch - 6ms/step\n",
            "Epoch 41/50\n",
            "14/14 - 0s - loss: 0.0605 - accuracy: 0.9906 - val_loss: 0.0772 - val_accuracy: 0.9650 - 102ms/epoch - 7ms/step\n",
            "Epoch 42/50\n",
            "14/14 - 0s - loss: 0.0595 - accuracy: 0.9906 - val_loss: 0.0769 - val_accuracy: 0.9650 - 98ms/epoch - 7ms/step\n",
            "Epoch 43/50\n",
            "14/14 - 0s - loss: 0.0585 - accuracy: 0.9906 - val_loss: 0.0759 - val_accuracy: 0.9650 - 99ms/epoch - 7ms/step\n",
            "Epoch 44/50\n",
            "14/14 - 0s - loss: 0.0578 - accuracy: 0.9906 - val_loss: 0.0751 - val_accuracy: 0.9720 - 100ms/epoch - 7ms/step\n",
            "Epoch 45/50\n",
            "14/14 - 0s - loss: 0.0568 - accuracy: 0.9906 - val_loss: 0.0749 - val_accuracy: 0.9720 - 94ms/epoch - 7ms/step\n",
            "Epoch 46/50\n",
            "14/14 - 0s - loss: 0.0560 - accuracy: 0.9906 - val_loss: 0.0750 - val_accuracy: 0.9720 - 92ms/epoch - 7ms/step\n",
            "Epoch 47/50\n",
            "14/14 - 0s - loss: 0.0552 - accuracy: 0.9906 - val_loss: 0.0747 - val_accuracy: 0.9720 - 110ms/epoch - 8ms/step\n",
            "Epoch 48/50\n",
            "14/14 - 0s - loss: 0.0545 - accuracy: 0.9906 - val_loss: 0.0744 - val_accuracy: 0.9720 - 73ms/epoch - 5ms/step\n",
            "Epoch 49/50\n",
            "14/14 - 0s - loss: 0.0538 - accuracy: 0.9906 - val_loss: 0.0745 - val_accuracy: 0.9720 - 64ms/epoch - 5ms/step\n",
            "Epoch 50/50\n",
            "14/14 - 0s - loss: 0.0531 - accuracy: 0.9906 - val_loss: 0.0744 - val_accuracy: 0.9720 - 58ms/epoch - 4ms/step\n"
          ]
        }
      ],
      "source": [
        "history = model.fit(X_train, y_train, validation_data=(X_test, y_test),epochs=50, verbose=2)"
      ]
    },
    {
      "cell_type": "code",
      "execution_count": 37,
      "id": "ec376221",
      "metadata": {
        "colab": {
          "base_uri": "https://localhost:8080/",
          "height": 272
        },
        "id": "ec376221",
        "outputId": "2b427668-aab4-4faa-eadf-d6fce9809680"
      },
      "outputs": [
        {
          "output_type": "display_data",
          "data": {
            "text/plain": [
              "<Figure size 640x480 with 1 Axes>"
            ],
            "image/png": "[encoded data removed]"
          },
          "metadata": {}
        }
      ],
      "source": [
        "plt.plot(history.history['accuracy'])\n",
        "plt.plot(history.history['val_accuracy'])\n",
        "plt.title('model accuracy')\n",
        "plt.ylabel('accuracy')\n",
        "plt.xlabel('epoch')\n",
        "plt.legend(['train','test'], loc = 'lower right')\n",
        "plt.show()"
      ]
    },
    {
      "cell_type": "code",
      "execution_count": 38,
      "id": "1d64c5ec",
      "metadata": {
        "colab": {
          "base_uri": "https://localhost:8080/",
          "height": 276
        },
        "id": "1d64c5ec",
        "outputId": "944acc87-1002-46bd-9a25-9f6ff020ca56"
      },
      "outputs": [
        {
          "output_type": "display_data",
          "data": {
            "text/plain": [
              "<Figure size 640x480 with 1 Axes>"
            ],
            "image/png": "[encoded data removed]"
          },
          "metadata": {}
        }
      ],
      "source": [
        "plt.plot(history.history['loss'])\n",
        "plt.plot(history.history['val_loss'])\n",
        "plt.title('model loss')\n",
        "plt.ylabel('loss')\n",
        "plt.xlabel('epoch')\n",
        "plt.legend(['train','test'], loc = 'upper right')\n",
        "plt.show()"
      ]
    },
    {
      "cell_type": "code",
      "execution_count": 39,
      "id": "6560c617",
      "metadata": {
        "colab": {
          "base_uri": "https://localhost:8080/"
        },
        "id": "6560c617",
        "outputId": "6a064efa-a637-4b37-b305-de648d19b5bf"
      },
      "outputs": [
        {
          "output_type": "stream",
          "name": "stdout",
          "text": [
            "5/5 [==============================] - 0s 3ms/step\n"
          ]
        }
      ],
      "source": [
        "y_pred = model.predict(X_test)\n",
        "y_pred_n = y_pred >= 0.5"
      ]
    },
    {
      "cell_type": "code",
      "execution_count": 40,
      "id": "f2c4abd9",
      "metadata": {
        "colab": {
          "base_uri": "https://localhost:8080/"
        },
        "id": "f2c4abd9",
        "outputId": "842b9c1e-1b2a-4b23-e882-792e2726bd32"
      },
      "outputs": [
        {
          "output_type": "execute_result",
          "data": {
            "text/plain": [
              "array([[88,  2],\n",
              "       [ 2, 51]])"
            ]
          },
          "metadata": {},
          "execution_count": 40
        }
      ],
      "source": [
        "confusion_mat = confusion_matrix(y_test,y_pred_n)\n",
        "confusion_mat"
      ]
    },
    {
      "cell_type": "code",
      "execution_count": 41,
      "id": "dc58fe9e",
      "metadata": {
        "colab": {
          "base_uri": "https://localhost:8080/"
        },
        "id": "dc58fe9e",
        "outputId": "4a94df1c-5dc4-47df-efec-d026ca2f7439"
      },
      "outputs": [
        {
          "output_type": "stream",
          "name": "stdout",
          "text": [
            "\n",
            "Classification Results\n",
            "              precision    recall  f1-score   support\n",
            "\n",
            "           0       0.98      0.98      0.98        90\n",
            "           1       0.96      0.96      0.96        53\n",
            "\n",
            "    accuracy                           0.97       143\n",
            "   macro avg       0.97      0.97      0.97       143\n",
            "weighted avg       0.97      0.97      0.97       143\n",
            "\n"
          ]
        }
      ],
      "source": [
        "result = classification_report(y_test,y_pred_n)\n",
        "print()\n",
        "print(\"Classification Results\")\n",
        "print(result)"
      ]
    }
  ],
  "metadata": {
    "kernelspec": {
      "display_name": "Python 3 (ipykernel)",
      "language": "python",
      "name": "python3"
    },
    "language_info": {
      "codemirror_mode": {
        "name": "ipython",
        "version": 3
      },
      "file_extension": ".py",
      "mimetype": "text/x-python",
      "name": "python",
      "nbconvert_exporter": "python",
      "pygments_lexer": "ipython3",
      "version": "3.10.12"
    },
    "colab": {
      "provenance": [],
      "include_colab_link": true
    }
  },
  "nbformat": 4,
  "nbformat_minor": 5
}