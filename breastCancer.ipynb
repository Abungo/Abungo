{
  "cells": [
    {
      "cell_type": "markdown",
      "metadata": {
        "id": "view-in-github",
        "colab_type": "text"
      },
      "source": [
        "<a href=\"https://colab.research.google.com/github/Abungo/Abungo/blob/main/breastCancer.ipynb\" target=\"_parent\"><img src=\"https://colab.research.google.com/assets/colab-badge.svg\" alt=\"Open In Colab\"/></a>"
      ]
    },
    {
      "cell_type": "code",
      "execution_count": null,
      "id": "c5f711e6",
      "metadata": {
        "id": "c5f711e6"
      },
      "outputs": [],
      "source": [
        "import pandas as pd\n",
        "import matplotlib.pyplot as plt\n",
        "from tensorflow.keras.models import Sequential\n",
        "from tensorflow.keras.layers import Dense\n",
        "from sklearn.model_selection import train_test_split\n",
        "from sklearn.preprocessing import LabelEncoder\n",
        "from sklearn.metrics import confusion_matrix\n",
        "from sklearn.metrics import classification_report\n",
        "from sklearn.preprocessing import StandardScaler\n",
        "from sklearn.datasets import load_breast_cancer"
      ]
    },
    {
      "cell_type": "code",
      "source": [
        "url = \"https://raw.githubusercontent.com/Abungo/copypaste/main/breastCancer.csv\"\n",
        "df=pd.read_csv(url)"
      ],
      "metadata": {
        "id": "YMKxQoe2DARm"
      },
      "id": "YMKxQoe2DARm",
      "execution_count": null,
      "outputs": []
    },
    {
      "cell_type": "code",
      "source": [
        "X = df.iloc[:,2:-1]\n",
        "y = df.iloc[:,1]"
      ],
      "metadata": {
        "id": "mJkpM99MDmqT"
      },
      "id": "mJkpM99MDmqT",
      "execution_count": null,
      "outputs": []
    },
    {
      "cell_type": "code",
      "execution_count": null,
      "id": "4e44430e",
      "metadata": {
        "id": "4e44430e"
      },
      "outputs": [],
      "source": [
        "en = LabelEncoder()\n",
        "en.fit(y)\n",
        "y = en.transform(y)"
      ]
    },
    {
      "cell_type": "code",
      "execution_count": null,
      "id": "1dbfa4a4",
      "metadata": {
        "id": "1dbfa4a4"
      },
      "outputs": [],
      "source": [
        "#scaling the training data\n",
        "scaler = StandardScaler()\n",
        "X = scaler.fit_transform(X)"
      ]
    },
    {
      "cell_type": "code",
      "execution_count": null,
      "id": "b7ade115",
      "metadata": {
        "id": "b7ade115"
      },
      "outputs": [],
      "source": [
        "X_train,X_test,y_train,y_test = train_test_split(X, y, random_state=3, test_size = 0.25)"
      ]
    },
    {
      "cell_type": "code",
      "execution_count": null,
      "id": "a23e86f5",
      "metadata": {
        "id": "a23e86f5"
      },
      "outputs": [],
      "source": [
        "model = Sequential()\n",
        "#model.add(Dense(16,input_dim = 30, activation = 'relu'))\n",
        "#model.add(Dense(8, activation = 'relu'))\n",
        "model.add(Dense(1,input_dim = 30,activation = 'sigmoid'))\n",
        "model.compile(loss = 'binary_crossentropy', optimizer = 'adam', metrics = ['accuracy'])"
      ]
    },
    {
      "cell_type": "code",
      "execution_count": null,
      "id": "c6f1c728",
      "metadata": {
        "colab": {
          "base_uri": "https://localhost:8080/"
        },
        "id": "c6f1c728",
        "outputId": "f19267f8-0a45-48fa-b946-2f28ca8d52f9"
      },
      "outputs": [
        {
          "output_type": "stream",
          "name": "stdout",
          "text": [
            "Epoch 1/50\n",
            "14/14 - 1s - loss: 0.7811 - accuracy: 0.5164 - val_loss: 0.6481 - val_accuracy: 0.6084 - 847ms/epoch - 61ms/step\n",
            "Epoch 2/50\n",
            "14/14 - 0s - loss: 0.6895 - accuracy: 0.6009 - val_loss: 0.5746 - val_accuracy: 0.6993 - 66ms/epoch - 5ms/step\n",
            "Epoch 3/50\n",
            "14/14 - 0s - loss: 0.6122 - accuracy: 0.6643 - val_loss: 0.5131 - val_accuracy: 0.7413 - 72ms/epoch - 5ms/step\n",
            "Epoch 4/50\n",
            "14/14 - 0s - loss: 0.5489 - accuracy: 0.7300 - val_loss: 0.4606 - val_accuracy: 0.7972 - 60ms/epoch - 4ms/step\n",
            "Epoch 5/50\n",
            "14/14 - 0s - loss: 0.4958 - accuracy: 0.7770 - val_loss: 0.4179 - val_accuracy: 0.8462 - 68ms/epoch - 5ms/step\n",
            "Epoch 6/50\n",
            "14/14 - 0s - loss: 0.4527 - accuracy: 0.8099 - val_loss: 0.3829 - val_accuracy: 0.8811 - 71ms/epoch - 5ms/step\n",
            "Epoch 7/50\n",
            "14/14 - 0s - loss: 0.4171 - accuracy: 0.8404 - val_loss: 0.3538 - val_accuracy: 0.9021 - 66ms/epoch - 5ms/step\n",
            "Epoch 8/50\n",
            "14/14 - 0s - loss: 0.3872 - accuracy: 0.8685 - val_loss: 0.3278 - val_accuracy: 0.9091 - 54ms/epoch - 4ms/step\n",
            "Epoch 9/50\n",
            "14/14 - 0s - loss: 0.3615 - accuracy: 0.8944 - val_loss: 0.3065 - val_accuracy: 0.9231 - 53ms/epoch - 4ms/step\n",
            "Epoch 10/50\n",
            "14/14 - 0s - loss: 0.3395 - accuracy: 0.9085 - val_loss: 0.2884 - val_accuracy: 0.9231 - 60ms/epoch - 4ms/step\n",
            "Epoch 11/50\n",
            "14/14 - 0s - loss: 0.3209 - accuracy: 0.9131 - val_loss: 0.2723 - val_accuracy: 0.9371 - 70ms/epoch - 5ms/step\n",
            "Epoch 12/50\n",
            "14/14 - 0s - loss: 0.3044 - accuracy: 0.9249 - val_loss: 0.2583 - val_accuracy: 0.9510 - 70ms/epoch - 5ms/step\n",
            "Epoch 13/50\n",
            "14/14 - 0s - loss: 0.2895 - accuracy: 0.9343 - val_loss: 0.2460 - val_accuracy: 0.9510 - 68ms/epoch - 5ms/step\n",
            "Epoch 14/50\n",
            "14/14 - 0s - loss: 0.2767 - accuracy: 0.9460 - val_loss: 0.2347 - val_accuracy: 0.9510 - 56ms/epoch - 4ms/step\n",
            "Epoch 15/50\n",
            "14/14 - 0s - loss: 0.2649 - accuracy: 0.9554 - val_loss: 0.2250 - val_accuracy: 0.9510 - 71ms/epoch - 5ms/step\n",
            "Epoch 16/50\n",
            "14/14 - 0s - loss: 0.2549 - accuracy: 0.9601 - val_loss: 0.2162 - val_accuracy: 0.9580 - 66ms/epoch - 5ms/step\n",
            "Epoch 17/50\n",
            "14/14 - 0s - loss: 0.2453 - accuracy: 0.9601 - val_loss: 0.2081 - val_accuracy: 0.9650 - 55ms/epoch - 4ms/step\n",
            "Epoch 18/50\n",
            "14/14 - 0s - loss: 0.2368 - accuracy: 0.9624 - val_loss: 0.2009 - val_accuracy: 0.9650 - 75ms/epoch - 5ms/step\n",
            "Epoch 19/50\n",
            "14/14 - 0s - loss: 0.2290 - accuracy: 0.9624 - val_loss: 0.1944 - val_accuracy: 0.9650 - 55ms/epoch - 4ms/step\n",
            "Epoch 20/50\n",
            "14/14 - 0s - loss: 0.2218 - accuracy: 0.9624 - val_loss: 0.1883 - val_accuracy: 0.9650 - 52ms/epoch - 4ms/step\n",
            "Epoch 21/50\n",
            "14/14 - 0s - loss: 0.2150 - accuracy: 0.9624 - val_loss: 0.1827 - val_accuracy: 0.9650 - 54ms/epoch - 4ms/step\n",
            "Epoch 22/50\n",
            "14/14 - 0s - loss: 0.2089 - accuracy: 0.9648 - val_loss: 0.1773 - val_accuracy: 0.9650 - 52ms/epoch - 4ms/step\n",
            "Epoch 23/50\n",
            "14/14 - 0s - loss: 0.2031 - accuracy: 0.9648 - val_loss: 0.1728 - val_accuracy: 0.9650 - 69ms/epoch - 5ms/step\n",
            "Epoch 24/50\n",
            "14/14 - 0s - loss: 0.1978 - accuracy: 0.9648 - val_loss: 0.1683 - val_accuracy: 0.9650 - 65ms/epoch - 5ms/step\n",
            "Epoch 25/50\n",
            "14/14 - 0s - loss: 0.1929 - accuracy: 0.9695 - val_loss: 0.1640 - val_accuracy: 0.9650 - 60ms/epoch - 4ms/step\n",
            "Epoch 26/50\n",
            "14/14 - 0s - loss: 0.1883 - accuracy: 0.9695 - val_loss: 0.1601 - val_accuracy: 0.9650 - 72ms/epoch - 5ms/step\n",
            "Epoch 27/50\n",
            "14/14 - 0s - loss: 0.1839 - accuracy: 0.9695 - val_loss: 0.1566 - val_accuracy: 0.9650 - 69ms/epoch - 5ms/step\n",
            "Epoch 28/50\n",
            "14/14 - 0s - loss: 0.1798 - accuracy: 0.9695 - val_loss: 0.1531 - val_accuracy: 0.9650 - 57ms/epoch - 4ms/step\n",
            "Epoch 29/50\n",
            "14/14 - 0s - loss: 0.1759 - accuracy: 0.9695 - val_loss: 0.1498 - val_accuracy: 0.9650 - 55ms/epoch - 4ms/step\n",
            "Epoch 30/50\n",
            "14/14 - 0s - loss: 0.1723 - accuracy: 0.9695 - val_loss: 0.1469 - val_accuracy: 0.9650 - 54ms/epoch - 4ms/step\n",
            "Epoch 31/50\n",
            "14/14 - 0s - loss: 0.1689 - accuracy: 0.9695 - val_loss: 0.1442 - val_accuracy: 0.9650 - 67ms/epoch - 5ms/step\n",
            "Epoch 32/50\n",
            "14/14 - 0s - loss: 0.1655 - accuracy: 0.9718 - val_loss: 0.1415 - val_accuracy: 0.9650 - 53ms/epoch - 4ms/step\n",
            "Epoch 33/50\n",
            "14/14 - 0s - loss: 0.1623 - accuracy: 0.9718 - val_loss: 0.1389 - val_accuracy: 0.9650 - 69ms/epoch - 5ms/step\n",
            "Epoch 34/50\n",
            "14/14 - 0s - loss: 0.1594 - accuracy: 0.9718 - val_loss: 0.1366 - val_accuracy: 0.9650 - 72ms/epoch - 5ms/step\n",
            "Epoch 35/50\n",
            "14/14 - 0s - loss: 0.1567 - accuracy: 0.9718 - val_loss: 0.1344 - val_accuracy: 0.9650 - 53ms/epoch - 4ms/step\n",
            "Epoch 36/50\n",
            "14/14 - 0s - loss: 0.1540 - accuracy: 0.9742 - val_loss: 0.1323 - val_accuracy: 0.9650 - 54ms/epoch - 4ms/step\n",
            "Epoch 37/50\n",
            "14/14 - 0s - loss: 0.1514 - accuracy: 0.9742 - val_loss: 0.1304 - val_accuracy: 0.9650 - 63ms/epoch - 5ms/step\n",
            "Epoch 38/50\n",
            "14/14 - 0s - loss: 0.1489 - accuracy: 0.9742 - val_loss: 0.1284 - val_accuracy: 0.9650 - 69ms/epoch - 5ms/step\n",
            "Epoch 39/50\n",
            "14/14 - 0s - loss: 0.1466 - accuracy: 0.9742 - val_loss: 0.1264 - val_accuracy: 0.9650 - 52ms/epoch - 4ms/step\n",
            "Epoch 40/50\n",
            "14/14 - 0s - loss: 0.1443 - accuracy: 0.9742 - val_loss: 0.1245 - val_accuracy: 0.9650 - 71ms/epoch - 5ms/step\n",
            "Epoch 41/50\n",
            "14/14 - 0s - loss: 0.1422 - accuracy: 0.9742 - val_loss: 0.1229 - val_accuracy: 0.9650 - 56ms/epoch - 4ms/step\n",
            "Epoch 42/50\n",
            "14/14 - 0s - loss: 0.1402 - accuracy: 0.9742 - val_loss: 0.1212 - val_accuracy: 0.9650 - 52ms/epoch - 4ms/step\n",
            "Epoch 43/50\n",
            "14/14 - 0s - loss: 0.1382 - accuracy: 0.9765 - val_loss: 0.1196 - val_accuracy: 0.9650 - 63ms/epoch - 5ms/step\n",
            "Epoch 44/50\n",
            "14/14 - 0s - loss: 0.1363 - accuracy: 0.9765 - val_loss: 0.1181 - val_accuracy: 0.9720 - 75ms/epoch - 5ms/step\n",
            "Epoch 45/50\n",
            "14/14 - 0s - loss: 0.1346 - accuracy: 0.9765 - val_loss: 0.1166 - val_accuracy: 0.9720 - 242ms/epoch - 17ms/step\n",
            "Epoch 46/50\n",
            "14/14 - 0s - loss: 0.1328 - accuracy: 0.9765 - val_loss: 0.1153 - val_accuracy: 0.9720 - 162ms/epoch - 12ms/step\n",
            "Epoch 47/50\n",
            "14/14 - 0s - loss: 0.1312 - accuracy: 0.9765 - val_loss: 0.1141 - val_accuracy: 0.9720 - 89ms/epoch - 6ms/step\n",
            "Epoch 48/50\n",
            "14/14 - 0s - loss: 0.1296 - accuracy: 0.9765 - val_loss: 0.1129 - val_accuracy: 0.9720 - 95ms/epoch - 7ms/step\n",
            "Epoch 49/50\n",
            "14/14 - 0s - loss: 0.1282 - accuracy: 0.9765 - val_loss: 0.1117 - val_accuracy: 0.9720 - 54ms/epoch - 4ms/step\n",
            "Epoch 50/50\n",
            "14/14 - 0s - loss: 0.1267 - accuracy: 0.9765 - val_loss: 0.1106 - val_accuracy: 0.9720 - 56ms/epoch - 4ms/step\n"
          ]
        }
      ],
      "source": [
        "history = model.fit(X_train, y_train, validation_data=(X_test, y_test),epochs=50, verbose=2)"
      ]
    },
    {
      "cell_type": "code",
      "execution_count": null,
      "id": "ec376221",
      "metadata": {
        "colab": {
          "base_uri": "https://localhost:8080/",
          "height": 276
        },
        "id": "ec376221",
        "outputId": "42ebe71e-30af-44e9-ba98-fadde007a1ae"
      },
      "outputs": [
        {
          "output_type": "display_data",
          "data": {
            "text/plain": [
              "<Figure size 640x480 with 1 Axes>"
            ],
            "image/png": "[encoded data removed]"
          },
          "metadata": {}
        }
      ],
      "source": [
        "plt.plot(history.history['accuracy'])\n",
        "plt.plot(history.history['val_accuracy'])\n",
        "plt.title('model accuracy')\n",
        "plt.ylabel('accuracy')\n",
        "plt.xlabel('epoch')\n",
        "plt.legend(['train','test'], loc = 'lower right')\n",
        "plt.show()"
      ]
    },
    {
      "cell_type": "code",
      "execution_count": null,
      "id": "1d64c5ec",
      "metadata": {
        "colab": {
          "base_uri": "https://localhost:8080/",
          "height": 276
        },
        "id": "1d64c5ec",
        "outputId": "3cdc3f64-c493-4e31-88c4-cbe7fe262a37"
      },
      "outputs": [
        {
          "output_type": "display_data",
          "data": {
            "text/plain": [
              "<Figure size 640x480 with 1 Axes>"
            ],
            "image/png": "[encoded data removed]"
          },
          "metadata": {}
        }
      ],
      "source": [
        "plt.plot(history.history['loss'])\n",
        "plt.plot(history.history['val_loss'])\n",
        "plt.title('model loss')\n",
        "plt.ylabel('loss')\n",
        "plt.xlabel('epoch')\n",
        "plt.legend(['train','test'], loc = 'upper right')\n",
        "plt.show()"
      ]
    },
    {
      "cell_type": "code",
      "execution_count": null,
      "id": "6560c617",
      "metadata": {
        "colab": {
          "base_uri": "https://localhost:8080/"
        },
        "id": "6560c617",
        "outputId": "ef859d2d-d1d9-425c-ee0f-cd0e58437e1f"
      },
      "outputs": [
        {
          "output_type": "stream",
          "name": "stdout",
          "text": [
            "5/5 [==============================] - 0s 2ms/step\n"
          ]
        }
      ],
      "source": [
        "y_pred = model.predict(X_test)\n",
        "y_pred_n = y_pred >= 0.5"
      ]
    },
    {
      "cell_type": "code",
      "execution_count": null,
      "id": "858c1ca8",
      "metadata": {
        "colab": {
          "base_uri": "https://localhost:8080/"
        },
        "id": "858c1ca8",
        "outputId": "5de0d606-ca3b-4ebe-c64a-ae8585a42702"
      },
      "outputs": [
        {
          "output_type": "execute_result",
          "data": {
            "text/plain": [
              "numpy.ndarray"
            ]
          },
          "metadata": {},
          "execution_count": 60
        }
      ],
      "source": [
        "type(y_pred)"
      ]
    },
    {
      "cell_type": "code",
      "execution_count": null,
      "id": "abfbbc48",
      "metadata": {
        "colab": {
          "base_uri": "https://localhost:8080/"
        },
        "id": "abfbbc48",
        "outputId": "a9ae1555-99c5-49a5-ba68-2027cc562f8e"
      },
      "outputs": [
        {
          "output_type": "execute_result",
          "data": {
            "text/plain": [
              "array([[False],\n",
              "       [False],\n",
              "       [False],\n",
              "       [False],\n",
              "       [ True],\n",
              "       [False],\n",
              "       [False],\n",
              "       [False],\n",
              "       [False],\n",
              "       [False],\n",
              "       [False],\n",
              "       [ True],\n",
              "       [False],\n",
              "       [False],\n",
              "       [False],\n",
              "       [False],\n",
              "       [False],\n",
              "       [False],\n",
              "       [ True],\n",
              "       [False],\n",
              "       [False],\n",
              "       [False],\n",
              "       [False],\n",
              "       [False],\n",
              "       [False],\n",
              "       [False],\n",
              "       [False],\n",
              "       [ True],\n",
              "       [ True],\n",
              "       [False],\n",
              "       [ True],\n",
              "       [False],\n",
              "       [False],\n",
              "       [False],\n",
              "       [False],\n",
              "       [False],\n",
              "       [False],\n",
              "       [False],\n",
              "       [ True],\n",
              "       [ True],\n",
              "       [ True],\n",
              "       [False],\n",
              "       [False],\n",
              "       [ True],\n",
              "       [False],\n",
              "       [False],\n",
              "       [ True],\n",
              "       [False],\n",
              "       [ True],\n",
              "       [False],\n",
              "       [ True],\n",
              "       [False],\n",
              "       [False],\n",
              "       [ True],\n",
              "       [ True],\n",
              "       [False],\n",
              "       [False],\n",
              "       [False],\n",
              "       [False],\n",
              "       [False],\n",
              "       [False],\n",
              "       [False],\n",
              "       [ True],\n",
              "       [ True],\n",
              "       [False],\n",
              "       [False],\n",
              "       [ True],\n",
              "       [False],\n",
              "       [ True],\n",
              "       [ True],\n",
              "       [False],\n",
              "       [ True],\n",
              "       [ True],\n",
              "       [ True],\n",
              "       [False],\n",
              "       [ True],\n",
              "       [False],\n",
              "       [ True],\n",
              "       [ True],\n",
              "       [ True],\n",
              "       [ True],\n",
              "       [False],\n",
              "       [False],\n",
              "       [False],\n",
              "       [False],\n",
              "       [ True],\n",
              "       [False],\n",
              "       [False],\n",
              "       [False],\n",
              "       [False],\n",
              "       [ True],\n",
              "       [ True],\n",
              "       [ True],\n",
              "       [False],\n",
              "       [False],\n",
              "       [ True],\n",
              "       [False],\n",
              "       [ True],\n",
              "       [False],\n",
              "       [False],\n",
              "       [False],\n",
              "       [False],\n",
              "       [False],\n",
              "       [False],\n",
              "       [False],\n",
              "       [ True],\n",
              "       [ True],\n",
              "       [False],\n",
              "       [ True],\n",
              "       [False],\n",
              "       [False],\n",
              "       [ True],\n",
              "       [False],\n",
              "       [False],\n",
              "       [ True],\n",
              "       [ True],\n",
              "       [False],\n",
              "       [ True],\n",
              "       [ True],\n",
              "       [ True],\n",
              "       [False],\n",
              "       [False],\n",
              "       [ True],\n",
              "       [False],\n",
              "       [ True],\n",
              "       [False],\n",
              "       [ True],\n",
              "       [False],\n",
              "       [ True],\n",
              "       [False],\n",
              "       [False],\n",
              "       [ True],\n",
              "       [ True],\n",
              "       [False],\n",
              "       [False],\n",
              "       [False],\n",
              "       [False],\n",
              "       [ True],\n",
              "       [False],\n",
              "       [False],\n",
              "       [False],\n",
              "       [False],\n",
              "       [ True]])"
            ]
          },
          "metadata": {},
          "execution_count": 61
        }
      ],
      "source": [
        "y_pred_n"
      ]
    },
    {
      "cell_type": "code",
      "execution_count": null,
      "id": "f2c4abd9",
      "metadata": {
        "colab": {
          "base_uri": "https://localhost:8080/"
        },
        "id": "f2c4abd9",
        "outputId": "8eb874b6-d6ce-4541-dbae-3bc76420aba3"
      },
      "outputs": [
        {
          "output_type": "execute_result",
          "data": {
            "text/plain": [
              "array([[89,  1],\n",
              "       [ 3, 50]])"
            ]
          },
          "metadata": {},
          "execution_count": 62
        }
      ],
      "source": [
        "confusion_mat = confusion_matrix(y_test,y_pred_n)\n",
        "confusion_mat"
      ]
    },
    {
      "cell_type": "code",
      "execution_count": null,
      "id": "dc58fe9e",
      "metadata": {
        "colab": {
          "base_uri": "https://localhost:8080/"
        },
        "id": "dc58fe9e",
        "outputId": "5b78daa1-e69d-48d9-9031-4278a1398054"
      },
      "outputs": [
        {
          "output_type": "stream",
          "name": "stdout",
          "text": [
            "\n",
            "Classification Results\n",
            "              precision    recall  f1-score   support\n",
            "\n",
            "           0       0.97      0.99      0.98        90\n",
            "           1       0.98      0.94      0.96        53\n",
            "\n",
            "    accuracy                           0.97       143\n",
            "   macro avg       0.97      0.97      0.97       143\n",
            "weighted avg       0.97      0.97      0.97       143\n",
            "\n"
          ]
        }
      ],
      "source": [
        "result = classification_report(y_test,y_pred_n)\n",
        "print()\n",
        "print(\"Classification Results\")\n",
        "print(result)"
      ]
    }
  ],
  "metadata": {
    "kernelspec": {
      "display_name": "Python 3 (ipykernel)",
      "language": "python",
      "name": "python3"
    },
    "language_info": {
      "codemirror_mode": {
        "name": "ipython",
        "version": 3
      },
      "file_extension": ".py",
      "mimetype": "text/x-python",
      "name": "python",
      "nbconvert_exporter": "python",
      "pygments_lexer": "ipython3",
      "version": "3.10.12"
    },
    "colab": {
      "provenance": [],
      "include_colab_link": true
    }
  },
  "nbformat": 4,
  "nbformat_minor": 5
}